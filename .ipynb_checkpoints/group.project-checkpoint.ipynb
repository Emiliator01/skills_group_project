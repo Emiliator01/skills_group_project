{
 "cells": [
  {
   "cell_type": "markdown",
   "metadata": {},
   "source": [
    "# Determinants of Popular Songs "
   ]
  },
  {
   "cell_type": "markdown",
   "metadata": {},
   "source": [
    "# Frederic Barz, Franca Boeglin and Emile Champagne "
   ]
  },
  {
   "cell_type": "markdown",
   "metadata": {},
   "source": [
    "# 23/05/2020"
   ]
  },
  {
   "cell_type": "markdown",
   "metadata": {},
   "source": [
    "## 1. Introduction "
   ]
  },
  {
   "cell_type": "markdown",
   "metadata": {},
   "source": [
    ". Today, the amount of songs on platforms such as spotify or apple music is increasing. It seemt that everbody can publich his or her music on those platforms. This raises the question, how we can differentiate popular from unpopular songs. \n",
    ". This group project focuses on the hidden determinants of popular songs. This project aims to take on an aggreagate and holistic approach, in order to pind wohn, which factors tath appear to be the most important determining popular songs. \n",
    ". The period studies is 2010 unitl 2019 and the number of songs observed is 603. \n",
    ". This paper aimts to providing further insight what driving popular songs over time. \n",
    ". Structure "
   ]
  },
  {
   "cell_type": "markdown",
   "metadata": {},
   "source": [
    "## 1.1 Research Question "
   ]
  },
  {
   "cell_type": "markdown",
   "metadata": {},
   "source": [
    "## 2 . Data and Methodology "
   ]
  },
  {
   "cell_type": "code",
   "execution_count": 2,
   "metadata": {},
   "outputs": [],
   "source": [
    "import numpy as np\n",
    "import pandas as pd\n",
    "import matplotlib.pyplot as plt"
   ]
  },
  {
   "cell_type": "markdown",
   "metadata": {},
   "source": []
  },
  {
   "cell_type": "code",
   "execution_count": 3,
   "metadata": {
    "scrolled": true
   },
   "outputs": [
    {
     "name": "stdout",
     "output_type": "stream",
     "text": [
      "     Unnamed: 0                                              title  \\\n",
      "0             1                                   Hey, Soul Sister   \n",
      "1             2                               Love The Way You Lie   \n",
      "2             3                                            TiK ToK   \n",
      "3             4                                        Bad Romance   \n",
      "4             5                               Just the Way You Are   \n",
      "..          ...                                                ...   \n",
      "598         599                Find U Again (feat. Camila Cabello)   \n",
      "599         600      Cross Me (feat. Chance the Rapper & PnB Rock)   \n",
      "600         601  No Brainer (feat. Justin Bieber, Chance the Ra...   \n",
      "601         602    Nothing Breaks Like a Heart (feat. Miley Cyrus)   \n",
      "602         603                                   Kills You Slowly   \n",
      "\n",
      "               artist        top genre  year  bpm  nrgy  dnce  dB  live  val  \\\n",
      "0               Train       neo mellow  2010   97    89    67  -4     8   80   \n",
      "1              Eminem  detroit hip hop  2010   87    93    75  -5    52   64   \n",
      "2               Kesha        dance pop  2010  120    84    76  -3    29   71   \n",
      "3           Lady Gaga        dance pop  2010  119    92    70  -4     8   71   \n",
      "4          Bruno Mars              pop  2010  109    84    64  -5     9   43   \n",
      "..                ...              ...   ...  ...   ...   ...  ..   ...  ...   \n",
      "598       Mark Ronson        dance pop  2019  104    66    61  -7    20   16   \n",
      "599        Ed Sheeran              pop  2019   95    79    75  -6     7   61   \n",
      "600         DJ Khaled        dance pop  2019  136    76    53  -5     9   65   \n",
      "601       Mark Ronson        dance pop  2019  114    79    60  -6    42   24   \n",
      "602  The Chainsmokers       electropop  2019  150    44    70  -9    13   23   \n",
      "\n",
      "     dur  acous  spch  pop  \n",
      "0    217     19     4   83  \n",
      "1    263     24    23   82  \n",
      "2    200     10    14   80  \n",
      "3    295      0     4   79  \n",
      "4    221      2     4   78  \n",
      "..   ...    ...   ...  ...  \n",
      "598  176      1     3   75  \n",
      "599  206     21    12   75  \n",
      "600  260      7    34   70  \n",
      "601  217      1     7   69  \n",
      "602  213      6     6   67  \n",
      "\n",
      "[603 rows x 15 columns]\n"
     ]
    }
   ],
   "source": [
    "df = pd.read_csv('top10s.csv', engine='python')\n",
    "print(df)"
   ]
  },
  {
   "cell_type": "code",
   "execution_count": 10,
   "metadata": {},
   "outputs": [
    {
     "name": "stdout",
     "output_type": "stream",
     "text": [
      "(603, 15)\n",
      "Unnamed: 0     int64\n",
      "title         object\n",
      "artist        object\n",
      "top genre     object\n",
      "year           int64\n",
      "bpm            int64\n",
      "nrgy           int64\n",
      "dnce           int64\n",
      "dB             int64\n",
      "live           int64\n",
      "val            int64\n",
      "dur            int64\n",
      "acous          int64\n",
      "spch           int64\n",
      "pop            int64\n",
      "dtype: object\n"
     ]
    },
    {
     "data": {
      "text/plain": [
       "Unnamed: 0    0\n",
       "title         0\n",
       "artist        0\n",
       "top genre     0\n",
       "year          0\n",
       "bpm           0\n",
       "nrgy          0\n",
       "dnce          0\n",
       "dB            0\n",
       "live          0\n",
       "val           0\n",
       "dur           0\n",
       "acous         0\n",
       "spch          0\n",
       "pop           0\n",
       "dtype: int64"
      ]
     },
     "execution_count": 10,
     "metadata": {},
     "output_type": "execute_result"
    }
   ],
   "source": [
    "print(df.shape) # Calculate the number of rows and columns: 15 columns and 603 rows \n",
    "print(df.dtypes) # Inspecting datatypes\n",
    "df.isna().sum() # looking for missing value, there is no null data for any column "
   ]
  },
  {
   "cell_type": "markdown",
   "metadata": {},
   "source": [
    "## 3. Results "
   ]
  },
  {
   "cell_type": "markdown",
   "metadata": {},
   "source": [
    "### 3.1 Descriptive Analytics "
   ]
  },
  {
   "cell_type": "markdown",
   "metadata": {},
   "source": [
    "### 3.2 Regression Analysis "
   ]
  },
  {
   "cell_type": "markdown",
   "metadata": {},
   "source": [
    "### 3.3 Machine Learning "
   ]
  },
  {
   "cell_type": "markdown",
   "metadata": {},
   "source": [
    "## 4. Concluding Remarks "
   ]
  }
 ],
 "metadata": {
  "kernelspec": {
   "display_name": "Python 3",
   "language": "python",
   "name": "python3"
  },
  "language_info": {
   "codemirror_mode": {
    "name": "ipython",
    "version": 3
   },
   "file_extension": ".py",
   "mimetype": "text/x-python",
   "name": "python",
   "nbconvert_exporter": "python",
   "pygments_lexer": "ipython3",
   "version": "3.7.6"
  }
 },
 "nbformat": 4,
 "nbformat_minor": 4
}
