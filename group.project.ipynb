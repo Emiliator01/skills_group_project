{
 "cells": [
  {
   "cell_type": "markdown",
   "metadata": {},
   "source": [
    "# Determinants of Popular Songs "
   ]
  },
  {
   "cell_type": "markdown",
   "metadata": {},
   "source": [
    "# Frederic Barz, Franca Boeglin and Emile Champagne "
   ]
  },
  {
   "cell_type": "markdown",
   "metadata": {},
   "source": [
    "# 23/05/2020"
   ]
  },
  {
   "cell_type": "markdown",
   "metadata": {},
   "source": [
    "## 1. Introduction "
   ]
  },
  {
   "cell_type": "markdown",
   "metadata": {},
   "source": [
    "* Today, the amount of songs on platforms such as spotify or apple music is continually increasing. It seems that everbody can publish his or her music on those platforms. This raises the question, how we can differentiate popular from unpopular songs. \n",
    "* This group project focuses on the hidden determinants of popular songs. This project aims to take on an aggreagate and holistic approach, in order to pin down, which factors that appear to be the most important determining popular songs. \n",
    "* The period studied is 2010 untill 2019 and the number of songs observed is 603. \n",
    "* This paper aims to provide further insight to what drives popular songs over time. \n",
    "* Structure "
   ]
  },
  {
   "cell_type": "markdown",
   "metadata": {},
   "source": [
    "## 1.1 Research Questions"
   ]
  },
  {
   "cell_type": "markdown",
   "metadata": {},
   "source": [
    "The focus of this group project is on determinants of popular songs. In particular, the paper analyzses which sound characteristics explain the popularity of different songs. The project futher investigates the dynamics of the factors across time (2010 - 2019). That is, the main focus is a study of multivariate correlations. Also, in order to further assess the relative importance of various factors and their predictive power, prediction analysis is performed in Machine Learning setting. In addition, the project provides an interactive part, which enables the user of this project to interact with the data. Therefore, our group project adresses the following questions: \n",
    " * Which determinants explain the popularity of songs? \n",
    " * Have any dynamics changed over time? \n",
    " * Can Machine Learning be adopted to predict different levels of popularity?"
   ]
  },
  {
   "cell_type": "markdown",
   "metadata": {},
   "source": [
    "## 2 . Set-Up, Data and Methodology "
   ]
  },
  {
   "cell_type": "markdown",
   "metadata": {},
   "source": [
    "### 2.1 Setting-Up: Libraries and Packages "
   ]
  },
  {
   "cell_type": "markdown",
   "metadata": {},
   "source": [
    "* **Numpy**: XX\n",
    "* **Pandas**: The python software package Pandas is used for multiple tasks. The packages provides many series and dataframes. It helps organizing, exploring, representing and manipulating the data. \n",
    "* **Matplotlib**: The library Mathplotlib is used to plot 2-dimensionals graphs and plots. It is further used to manipulate different characteristics of plots. "
   ]
  },
  {
   "cell_type": "code",
   "execution_count": 7,
   "metadata": {},
   "outputs": [],
   "source": [
    "import numpy as np\n",
    "import pandas as pd\n",
    "import matplotlib.pyplot as plt"
   ]
  },
  {
   "cell_type": "markdown",
   "metadata": {},
   "source": [
    "First, the function \"read_csv\" reads the comma-separated-values (csv) file \"top10a.csv\" into a dataframe using pandas. In addition, the parsing engine python is used to fix parse errors. The engine parameter changes the reading function internally to a slower but more stable method. "
   ]
  },
  {
   "cell_type": "code",
   "execution_count": 8,
   "metadata": {
    "scrolled": true
   },
   "outputs": [
    {
     "name": "stdout",
     "output_type": "stream",
     "text": [
      "     Unnamed: 0                                              title  \\\n",
      "0             1                                   Hey, Soul Sister   \n",
      "1             2                               Love The Way You Lie   \n",
      "2             3                                            TiK ToK   \n",
      "3             4                                        Bad Romance   \n",
      "4             5                               Just the Way You Are   \n",
      "..          ...                                                ...   \n",
      "598         599                Find U Again (feat. Camila Cabello)   \n",
      "599         600      Cross Me (feat. Chance the Rapper & PnB Rock)   \n",
      "600         601  No Brainer (feat. Justin Bieber, Chance the Ra...   \n",
      "601         602    Nothing Breaks Like a Heart (feat. Miley Cyrus)   \n",
      "602         603                                   Kills You Slowly   \n",
      "\n",
      "               artist        top genre  year  bpm  nrgy  dnce  dB  live  val  \\\n",
      "0               Train       neo mellow  2010   97    89    67  -4     8   80   \n",
      "1              Eminem  detroit hip hop  2010   87    93    75  -5    52   64   \n",
      "2               Kesha        dance pop  2010  120    84    76  -3    29   71   \n",
      "3           Lady Gaga        dance pop  2010  119    92    70  -4     8   71   \n",
      "4          Bruno Mars              pop  2010  109    84    64  -5     9   43   \n",
      "..                ...              ...   ...  ...   ...   ...  ..   ...  ...   \n",
      "598       Mark Ronson        dance pop  2019  104    66    61  -7    20   16   \n",
      "599        Ed Sheeran              pop  2019   95    79    75  -6     7   61   \n",
      "600         DJ Khaled        dance pop  2019  136    76    53  -5     9   65   \n",
      "601       Mark Ronson        dance pop  2019  114    79    60  -6    42   24   \n",
      "602  The Chainsmokers       electropop  2019  150    44    70  -9    13   23   \n",
      "\n",
      "     dur  acous  spch  pop  \n",
      "0    217     19     4   83  \n",
      "1    263     24    23   82  \n",
      "2    200     10    14   80  \n",
      "3    295      0     4   79  \n",
      "4    221      2     4   78  \n",
      "..   ...    ...   ...  ...  \n",
      "598  176      1     3   75  \n",
      "599  206     21    12   75  \n",
      "600  260      7    34   70  \n",
      "601  217      1     7   69  \n",
      "602  213      6     6   67  \n",
      "\n",
      "[603 rows x 15 columns]\n"
     ]
    }
   ],
   "source": [
    "df = pd.read_csv('top10s.csv', engine='python') # Reading the csv file using pandas, set engine paramaeter to python to avoid parse errors. \n",
    "print(df) # print dataframe to get a glimpse on the dataset. "
   ]
  },
  {
   "cell_type": "code",
   "execution_count": 9,
   "metadata": {},
   "outputs": [
    {
     "name": "stdout",
     "output_type": "stream",
     "text": [
      "(603, 15)\n"
     ]
    },
    {
     "data": {
      "text/plain": [
       "Unnamed: 0    0\n",
       "title         0\n",
       "artist        0\n",
       "top genre     0\n",
       "year          0\n",
       "bpm           0\n",
       "nrgy          0\n",
       "dnce          0\n",
       "dB            0\n",
       "live          0\n",
       "val           0\n",
       "dur           0\n",
       "acous         0\n",
       "spch          0\n",
       "pop           0\n",
       "dtype: int64"
      ]
     },
     "execution_count": 9,
     "metadata": {},
     "output_type": "execute_result"
    }
   ],
   "source": [
    "print(df.shape) # Calculate the number of rows and columns: 15 columns and 603 rows \n",
    "df.isna().sum() # looking for missing value, there is no null data for any column "
   ]
  },
  {
   "cell_type": "markdown",
   "metadata": {},
   "source": [
    "### 2.2 Data "
   ]
  },
  {
   "cell_type": "markdown",
   "metadata": {},
   "source": [
    "The different sound characteristics derive from spotify. First, the different datatypes of dataset are inspected. The output shows that the dataset consists of categorical and numerical data. After the inspection, the different variables used for the analyses are desrcibed. The different variables derive from Spotify. "
   ]
  },
  {
   "cell_type": "code",
   "execution_count": 10,
   "metadata": {},
   "outputs": [
    {
     "name": "stdout",
     "output_type": "stream",
     "text": [
      "Unnamed: 0     int64\n",
      "title         object\n",
      "artist        object\n",
      "top genre     object\n",
      "year           int64\n",
      "bpm            int64\n",
      "nrgy           int64\n",
      "dnce           int64\n",
      "dB             int64\n",
      "live           int64\n",
      "val            int64\n",
      "dur            int64\n",
      "acous          int64\n",
      "spch           int64\n",
      "pop            int64\n",
      "dtype: object\n"
     ]
    }
   ],
   "source": [
    "print(df.dtypes) # inspect datatypes "
   ]
  },
  {
   "cell_type": "markdown",
   "metadata": {},
   "source": [
    "#### 2.2.1 Dependen and independent Variables"
   ]
  },
  {
   "cell_type": "markdown",
   "metadata": {},
   "source": [
    "Before we focus on the different variables in more detail, the following summary of the variables used for the analysis provides an overview: \n",
    "\n",
    "* *bmp*: Beats per minute/ Tempo (bmp)\n",
    "* *nrgy*: Energy \n",
    "* *dnce*: Danceability \n",
    "* *dB*: Loudness (dB)\n",
    "* *live*: Liveness \n",
    "* *val*: Valence \n",
    "* *dur*: Duration (milliseconds)\n",
    "* *acous*: Acousticness \n",
    "* *spch*: Speechiness\n",
    "* *pop*: Popularity"
   ]
  },
  {
   "cell_type": "markdown",
   "metadata": {},
   "source": [
    "**Tempo**\n",
    "Tempo describes the overall estimated tempo of a track. It is measured in beats per minute (bpm). Refering to the muscial terminology, tempo can be defines as the speed or pace of a song. The measurement derives directly from the average beat duration. The histogram below shows that the majority of songs has around 90 to 140 beats per minutes. "
   ]
  },
  {
   "cell_type": "code",
   "execution_count": 31,
   "metadata": {},
   "outputs": [
    {
     "data": {
      "text/plain": [
       "Text(0.5, 1, 'Beats Per Minutes [bpm]')"
      ]
     },
     "execution_count": 31,
     "metadata": {},
     "output_type": "execute_result"
    },
    {
     "data": {
      "image/png": "[encoded data removed]",
      "text/plain": [
       "<Figure size 1080x720 with 1 Axes>"
      ]
     },
     "metadata": {
      "needs_background": "light"
     },
     "output_type": "display_data"
    }
   ],
   "source": [
    "fig, axes = plt.subplots(figsize = (15,10)) # create a figure and one subplot, set the figuresize \n",
    "plt.tight_layout() # using tight_layout to automatically adjust plot parameters. \n",
    "axes.hist(df[\"bpm\"], bins=15, color = \"#1DB954\") # Plot beats per minutes, set bin size to 15, set color to spotify green using HEX color.\n",
    "axes.set_title(\"Beats Per Minutes [bpm]\") #set a title "
   ]
  },
  {
   "cell_type": "markdown",
   "metadata": {},
   "source": [
    "**Energy**\n",
    "Energy measures the perceptual intensity and activity of a song. Energy is measured from a scale from 0.0 to 1.0. Energetic songs are perceived as fast, loud and noisy. The histogram below shows that the majority of tracks in the datasat are rather energetic. "
   ]
  },
  {
   "cell_type": "code",
   "execution_count": 32,
   "metadata": {},
   "outputs": [
    {
     "data": {
      "text/plain": [
       "Text(0.5, 1, 'Energy')"
      ]
     },
     "execution_count": 32,
     "metadata": {},
     "output_type": "execute_result"
    },
    {
     "data": {
      "image/png": "[encoded data removed]",
      "text/plain": [
       "<Figure size 1080x720 with 1 Axes>"
      ]
     },
     "metadata": {
      "needs_background": "light"
     },
     "output_type": "display_data"
    }
   ],
   "source": [
    "fig, axes = plt.subplots(figsize = (15,10)) # create a figure and one subplot, set the figuresize \n",
    "plt.tight_layout() # using tight_layout to automatically adjust plot parameters. \n",
    "axes.hist(df[\"nrgy\"], bins=15, color = \"#1DB954\") # Plot energy, set bin size to 15, set color to spotify green using HEX color.\n",
    "axes.set_title(\"Energy\") #set a title "
   ]
  },
  {
   "cell_type": "markdown",
   "metadata": {},
   "source": [
    "**Danceability** \n",
    "Based on a combination of musical characteristics, danceability describes how suitable a songs is for dancing. Therefore danceablity consists of elements such as tempo, rythm, stability, beat strength and overall regularity. Danceability is measured on a scale from 0.0 to 1.0, whereas 0.0 is least danceable and 1.0 is most danceable. As the plot shows, the majority of tracks in the dataset are suitable for dancing dnce (> .60). "
   ]
  },
  {
   "cell_type": "code",
   "execution_count": 33,
   "metadata": {},
   "outputs": [
    {
     "data": {
      "text/plain": [
       "Text(0.5, 1, 'Danceablity')"
      ]
     },
     "execution_count": 33,
     "metadata": {},
     "output_type": "execute_result"
    },
    {
     "data": {
      "image/png": "[encoded data removed]",
      "text/plain": [
       "<Figure size 1080x720 with 1 Axes>"
      ]
     },
     "metadata": {
      "needs_background": "light"
     },
     "output_type": "display_data"
    }
   ],
   "source": [
    "fig, axes = plt.subplots(figsize = (15,10)) # create a figure and one subplot, set the figuresize \n",
    "plt.tight_layout() # using tight_layout to automatically adjust plot parameters. \n",
    "axes.hist(df[\"dnce\"], bins=15, color = \"#1DB954\") # Plot danceablity, set bin size to 15, set color to spotify green using HEX color.\n",
    "axes.set_title(\"Danceablity\") #set a title "
   ]
  },
  {
   "cell_type": "markdown",
   "metadata": {},
   "source": [
    "**Loudness** \n",
    "Loudness measures by definition how loud a specfic song is. It is measured in decibels (dB). The loudness of a track represents all values averaged across the entire song. It further represents the quality of a song that is the primary psychological correlate of amplitude in deciple. Typically, values range from -60 to 0. As can be seen in the histogram below, the majority of tracks have an average loudness close between -10 and 0. This means that the dataset contains mainly lound songs.   "
   ]
  },
  {
   "cell_type": "code",
   "execution_count": 34,
   "metadata": {},
   "outputs": [
    {
     "data": {
      "text/plain": [
       "Text(0.5, 1, 'Loudness')"
      ]
     },
     "execution_count": 34,
     "metadata": {},
     "output_type": "execute_result"
    },
    {
     "data": {
      "image/png": "[encoded data removed]",
      "text/plain": [
       "<Figure size 1080x720 with 1 Axes>"
      ]
     },
     "metadata": {
      "needs_background": "light"
     },
     "output_type": "display_data"
    }
   ],
   "source": [
    "fig, axes = plt.subplots(figsize = (15,10)) # create a figure and one subplot, set the figuresize \n",
    "plt.tight_layout() # using tight_layout to automatically adjust plot parameters. \n",
    "axes.hist(df[\"dB\"], bins=15, color = \"#1DB954\") # Plot loudness, set bin size to 15, set color to spotify green using HEX color.\n",
    "axes.set_title(\"Loudness\") #set a title "
   ]
  },
  {
   "cell_type": "markdown",
   "metadata": {},
   "source": [
    "**Liveness** \n",
    "Liveness measures the propensity of live audience in the track. The higher the value for liveness, the higher the probability that the track was performed live. A value above 0.8 typcially means that a given track was performed live. As can be seen below, the majority of tracks in the dataset is not peformed live. "
   ]
  },
  {
   "cell_type": "code",
   "execution_count": 35,
   "metadata": {},
   "outputs": [
    {
     "data": {
      "text/plain": [
       "Text(0.5, 1, 'Liveness')"
      ]
     },
     "execution_count": 35,
     "metadata": {},
     "output_type": "execute_result"
    },
    {
     "data": {
      "image/png": "[encoded data removed]",
      "text/plain": [
       "<Figure size 1080x720 with 1 Axes>"
      ]
     },
     "metadata": {
      "needs_background": "light"
     },
     "output_type": "display_data"
    }
   ],
   "source": [
    "fig, axes = plt.subplots(figsize = (15,10)) # create a figure and one subplot, set the figuresize \n",
    "plt.tight_layout() # using tight_layout to automatically adjust plot parameters. \n",
    "axes.hist(df[\"live\"], bins=15, color = \"#1DB954\") # Plot liveness, set bin size to 15, set color to spotify green using HEX color.\n",
    "axes.set_title(\"Liveness\") #set a title "
   ]
  },
  {
   "cell_type": "markdown",
   "metadata": {},
   "source": [
    "**Valence**\n",
    "Valence describes the musical positiveness of a track. Valence is measured on a scale from 0.0 to 1.0. High valence sounds more positive, whereas low valence sounds more negative. A positive tracks sounds happy, cheerful, euphoric etc. and a negativ track has more sad, depressed or angry sound characteristics. The plot shows that the songs in the dataset cover the whole spectrum of valence. The majority of songs is approximately in the middle. "
   ]
  },
  {
   "cell_type": "code",
   "execution_count": 36,
   "metadata": {},
   "outputs": [
    {
     "data": {
      "text/plain": [
       "Text(0.5, 1, 'Valence')"
      ]
     },
     "execution_count": 36,
     "metadata": {},
     "output_type": "execute_result"
    },
    {
     "data": {
      "image/png": "[encoded data removed]",
      "text/plain": [
       "<Figure size 1080x720 with 1 Axes>"
      ]
     },
     "metadata": {
      "needs_background": "light"
     },
     "output_type": "display_data"
    }
   ],
   "source": [
    "fig, axes = plt.subplots(figsize = (15,10)) # create a figure and one subplot, set the figuresize \n",
    "plt.tight_layout() # using tight_layout to automatically adjust plot parameters. \n",
    "axes.hist(df[\"val\"], bins=15, color = \"#1DB954\") # Plot liveness, set bin size to 15, set color to spotify green using HEX color.\n",
    "axes.set_title(\"Valence\") #set a title "
   ]
  },
  {
   "cell_type": "markdown",
   "metadata": {},
   "source": [
    "**Duration** \n",
    "Duration represents the length of the song and is measured in milliseconds. The histogram shows that songs are usually between 150 and 300 seconds long. The average track is approximately 223 seconds long. "
   ]
  },
  {
   "cell_type": "code",
   "execution_count": 37,
   "metadata": {},
   "outputs": [
    {
     "data": {
      "text/plain": [
       "Text(0.5, 1, 'Duration')"
      ]
     },
     "execution_count": 37,
     "metadata": {},
     "output_type": "execute_result"
    },
    {
     "data": {
      "image/png": "[encoded data removed]",
      "text/plain": [
       "<Figure size 1080x720 with 1 Axes>"
      ]
     },
     "metadata": {
      "needs_background": "light"
     },
     "output_type": "display_data"
    }
   ],
   "source": [
    "fig, axes = plt.subplots(figsize = (15,10)) # create a figure and one subplot, set the figuresize \n",
    "plt.tight_layout() # using tight_layout to automatically adjust plot parameters. \n",
    "axes.hist(df[\"dur\"], bins=15, color = \"#1DB954\") # Plot liveness, set bin size to 15, set color to spotify green using HEX color.\n",
    "axes.set_title(\"Duration\") #set a title "
   ]
  },
  {
   "cell_type": "markdown",
   "metadata": {},
   "source": [
    "**Acousticness**\n",
    "Acousticness measures by definition how acoustic a track is. Acousticness is measured on a scale from 0.0 to 1.0. The histogram below shows that the majority of the tracks in the dataset do not have a lot of acoustic elements. "
   ]
  },
  {
   "cell_type": "code",
   "execution_count": 39,
   "metadata": {},
   "outputs": [
    {
     "data": {
      "text/plain": [
       "Text(0.5, 1, 'Acousticness')"
      ]
     },
     "execution_count": 39,
     "metadata": {},
     "output_type": "execute_result"
    },
    {
     "data": {
      "image/png": "[encoded data removed]",
      "text/plain": [
       "<Figure size 1080x720 with 1 Axes>"
      ]
     },
     "metadata": {
      "needs_background": "light"
     },
     "output_type": "display_data"
    }
   ],
   "source": [
    "fig, axes = plt.subplots(figsize = (15,10)) # create a figure and one subplot, set the figuresize \n",
    "plt.tight_layout() # using tight_layout to automatically adjust plot parameters. \n",
    "axes.hist(df[\"acous\"], bins=15, color = \"#1DB954\") # Plot liveness, set bin size to 15, set color to spotify green using HEX color.\n",
    "axes.set_title(\"Acousticness\") #set a title "
   ]
  },
  {
   "cell_type": "markdown",
   "metadata": {},
   "source": [
    "**Speechiness**\n",
    "Speechiness represents the presence of spocen words in a track. Speechiness is measured on a scale from 0.0 to 1.0. A value of 1.0 is achieved, if there are many spoken words in a track (e.g. podcast). Typically, values above 0.66 result from tracks which are probably entirely of spoken words. Values between 0.33 and 0.66 are tracks which contain music as well as spoken words (e.g. rap songs). Values below 0.33 do not include any spoken words. The histogram clarifies that the dataset consists mostly of songs. "
   ]
  },
  {
   "cell_type": "code",
   "execution_count": 40,
   "metadata": {},
   "outputs": [
    {
     "data": {
      "text/plain": [
       "Text(0.5, 1, 'Speechiness')"
      ]
     },
     "execution_count": 40,
     "metadata": {},
     "output_type": "execute_result"
    },
    {
     "data": {
      "image/png": "[encoded data removed]",
      "text/plain": [
       "<Figure size 1080x720 with 1 Axes>"
      ]
     },
     "metadata": {
      "needs_background": "light"
     },
     "output_type": "display_data"
    }
   ],
   "source": [
    "fig, axes = plt.subplots(figsize = (15,10)) # create a figure and one subplot, set the figuresize \n",
    "plt.tight_layout() # using tight_layout to automatically adjust plot parameters. \n",
    "axes.hist(df[\"spch\"], bins=15, color = \"#1DB954\") # Plot liveness, set bin size to 15, set color to spotify green using HEX color.\n",
    "axes.set_title(\"Speechiness\") #set a title "
   ]
  },
  {
   "cell_type": "markdown",
   "metadata": {},
   "source": [
    "**Popularity** \n",
    "The last variable measures the popularity of the song. The higher the value the more popular was the song. This variable is treated as the dependent varible in the following analysis. As can be seen, most of the songs were quite popular. "
   ]
  },
  {
   "cell_type": "code",
   "execution_count": 41,
   "metadata": {},
   "outputs": [
    {
     "data": {
      "text/plain": [
       "Text(0.5, 1, 'Popularity')"
      ]
     },
     "execution_count": 41,
     "metadata": {},
     "output_type": "execute_result"
    },
    {
     "data": {
      "image/png": "[encoded data removed]",
      "text/plain": [
       "<Figure size 1080x720 with 1 Axes>"
      ]
     },
     "metadata": {
      "needs_background": "light"
     },
     "output_type": "display_data"
    }
   ],
   "source": [
    "fig, axes = plt.subplots(figsize = (15,10)) # create a figure and one subplot, set the figuresize \n",
    "plt.tight_layout() # using tight_layout to automatically adjust plot parameters. \n",
    "axes.hist(df[\"pop\"], bins=15, color = \"#1DB954\") # Plot liveness, set bin size to 15, set color to spotify green using HEX color.\n",
    "axes.set_title(\"Popularity\") #set a title "
   ]
  },
  {
   "cell_type": "code",
   "execution_count": 38,
   "metadata": {},
   "outputs": [
    {
     "data": {
      "text/html": [
       "<div>\n",
       "<style scoped>\n",
       "    .dataframe tbody tr th:only-of-type {\n",
       "        vertical-align: middle;\n",
       "    }\n",
       "\n",
       "    .dataframe tbody tr th {\n",
       "        vertical-align: top;\n",
       "    }\n",
       "\n",
       "    .dataframe thead th {\n",
       "        text-align: right;\n",
       "    }\n",
       "</style>\n",
       "<table border=\"1\" class=\"dataframe\">\n",
       "  <thead>\n",
       "    <tr style=\"text-align: right;\">\n",
       "      <th></th>\n",
       "      <th>Unnamed: 0</th>\n",
       "      <th>year</th>\n",
       "      <th>bpm</th>\n",
       "      <th>nrgy</th>\n",
       "      <th>dnce</th>\n",
       "      <th>dB</th>\n",
       "      <th>live</th>\n",
       "      <th>val</th>\n",
       "      <th>dur</th>\n",
       "      <th>acous</th>\n",
       "      <th>spch</th>\n",
       "      <th>pop</th>\n",
       "    </tr>\n",
       "  </thead>\n",
       "  <tbody>\n",
       "    <tr>\n",
       "      <th>count</th>\n",
       "      <td>603.000000</td>\n",
       "      <td>603.000000</td>\n",
       "      <td>603.000000</td>\n",
       "      <td>603.000000</td>\n",
       "      <td>603.000000</td>\n",
       "      <td>603.000000</td>\n",
       "      <td>603.000000</td>\n",
       "      <td>603.000000</td>\n",
       "      <td>603.000000</td>\n",
       "      <td>603.000000</td>\n",
       "      <td>603.000000</td>\n",
       "      <td>603.000000</td>\n",
       "    </tr>\n",
       "    <tr>\n",
       "      <th>mean</th>\n",
       "      <td>302.000000</td>\n",
       "      <td>2014.592040</td>\n",
       "      <td>118.545605</td>\n",
       "      <td>70.504146</td>\n",
       "      <td>64.379768</td>\n",
       "      <td>-5.578773</td>\n",
       "      <td>17.774461</td>\n",
       "      <td>52.225539</td>\n",
       "      <td>224.674959</td>\n",
       "      <td>14.326700</td>\n",
       "      <td>8.358209</td>\n",
       "      <td>66.520730</td>\n",
       "    </tr>\n",
       "    <tr>\n",
       "      <th>std</th>\n",
       "      <td>174.215384</td>\n",
       "      <td>2.607057</td>\n",
       "      <td>24.795358</td>\n",
       "      <td>16.310664</td>\n",
       "      <td>13.378718</td>\n",
       "      <td>2.798020</td>\n",
       "      <td>13.102543</td>\n",
       "      <td>22.513020</td>\n",
       "      <td>34.130059</td>\n",
       "      <td>20.766165</td>\n",
       "      <td>7.483162</td>\n",
       "      <td>14.517746</td>\n",
       "    </tr>\n",
       "    <tr>\n",
       "      <th>min</th>\n",
       "      <td>1.000000</td>\n",
       "      <td>2010.000000</td>\n",
       "      <td>0.000000</td>\n",
       "      <td>0.000000</td>\n",
       "      <td>0.000000</td>\n",
       "      <td>-60.000000</td>\n",
       "      <td>0.000000</td>\n",
       "      <td>0.000000</td>\n",
       "      <td>134.000000</td>\n",
       "      <td>0.000000</td>\n",
       "      <td>0.000000</td>\n",
       "      <td>0.000000</td>\n",
       "    </tr>\n",
       "    <tr>\n",
       "      <th>25%</th>\n",
       "      <td>151.500000</td>\n",
       "      <td>2013.000000</td>\n",
       "      <td>100.000000</td>\n",
       "      <td>61.000000</td>\n",
       "      <td>57.000000</td>\n",
       "      <td>-6.000000</td>\n",
       "      <td>9.000000</td>\n",
       "      <td>35.000000</td>\n",
       "      <td>202.000000</td>\n",
       "      <td>2.000000</td>\n",
       "      <td>4.000000</td>\n",
       "      <td>60.000000</td>\n",
       "    </tr>\n",
       "    <tr>\n",
       "      <th>50%</th>\n",
       "      <td>302.000000</td>\n",
       "      <td>2015.000000</td>\n",
       "      <td>120.000000</td>\n",
       "      <td>74.000000</td>\n",
       "      <td>66.000000</td>\n",
       "      <td>-5.000000</td>\n",
       "      <td>12.000000</td>\n",
       "      <td>52.000000</td>\n",
       "      <td>221.000000</td>\n",
       "      <td>6.000000</td>\n",
       "      <td>5.000000</td>\n",
       "      <td>69.000000</td>\n",
       "    </tr>\n",
       "    <tr>\n",
       "      <th>75%</th>\n",
       "      <td>452.500000</td>\n",
       "      <td>2017.000000</td>\n",
       "      <td>129.000000</td>\n",
       "      <td>82.000000</td>\n",
       "      <td>73.000000</td>\n",
       "      <td>-4.000000</td>\n",
       "      <td>24.000000</td>\n",
       "      <td>69.000000</td>\n",
       "      <td>239.500000</td>\n",
       "      <td>17.000000</td>\n",
       "      <td>9.000000</td>\n",
       "      <td>76.000000</td>\n",
       "    </tr>\n",
       "    <tr>\n",
       "      <th>max</th>\n",
       "      <td>603.000000</td>\n",
       "      <td>2019.000000</td>\n",
       "      <td>206.000000</td>\n",
       "      <td>98.000000</td>\n",
       "      <td>97.000000</td>\n",
       "      <td>-2.000000</td>\n",
       "      <td>74.000000</td>\n",
       "      <td>98.000000</td>\n",
       "      <td>424.000000</td>\n",
       "      <td>99.000000</td>\n",
       "      <td>48.000000</td>\n",
       "      <td>99.000000</td>\n",
       "    </tr>\n",
       "  </tbody>\n",
       "</table>\n",
       "</div>"
      ],
      "text/plain": [
       "       Unnamed: 0         year         bpm        nrgy        dnce  \\\n",
       "count  603.000000   603.000000  603.000000  603.000000  603.000000   \n",
       "mean   302.000000  2014.592040  118.545605   70.504146   64.379768   \n",
       "std    174.215384     2.607057   24.795358   16.310664   13.378718   \n",
       "min      1.000000  2010.000000    0.000000    0.000000    0.000000   \n",
       "25%    151.500000  2013.000000  100.000000   61.000000   57.000000   \n",
       "50%    302.000000  2015.000000  120.000000   74.000000   66.000000   \n",
       "75%    452.500000  2017.000000  129.000000   82.000000   73.000000   \n",
       "max    603.000000  2019.000000  206.000000   98.000000   97.000000   \n",
       "\n",
       "               dB        live         val         dur       acous        spch  \\\n",
       "count  603.000000  603.000000  603.000000  603.000000  603.000000  603.000000   \n",
       "mean    -5.578773   17.774461   52.225539  224.674959   14.326700    8.358209   \n",
       "std      2.798020   13.102543   22.513020   34.130059   20.766165    7.483162   \n",
       "min    -60.000000    0.000000    0.000000  134.000000    0.000000    0.000000   \n",
       "25%     -6.000000    9.000000   35.000000  202.000000    2.000000    4.000000   \n",
       "50%     -5.000000   12.000000   52.000000  221.000000    6.000000    5.000000   \n",
       "75%     -4.000000   24.000000   69.000000  239.500000   17.000000    9.000000   \n",
       "max     -2.000000   74.000000   98.000000  424.000000   99.000000   48.000000   \n",
       "\n",
       "              pop  \n",
       "count  603.000000  \n",
       "mean    66.520730  \n",
       "std     14.517746  \n",
       "min      0.000000  \n",
       "25%     60.000000  \n",
       "50%     69.000000  \n",
       "75%     76.000000  \n",
       "max     99.000000  "
      ]
     },
     "execution_count": 38,
     "metadata": {},
     "output_type": "execute_result"
    }
   ],
   "source": [
    "df.describe()"
   ]
  },
  {
   "cell_type": "markdown",
   "metadata": {},
   "source": [
    "**Check correlation between dataset's features**\n"
   ]
  },
  {
   "cell_type": "code",
   "execution_count": 19,
   "metadata": {},
   "outputs": [
    {
     "data": {
      "text/html": [
       "<div>\n",
       "<style scoped>\n",
       "    .dataframe tbody tr th:only-of-type {\n",
       "        vertical-align: middle;\n",
       "    }\n",
       "\n",
       "    .dataframe tbody tr th {\n",
       "        vertical-align: top;\n",
       "    }\n",
       "\n",
       "    .dataframe thead th {\n",
       "        text-align: right;\n",
       "    }\n",
       "</style>\n",
       "<table border=\"1\" class=\"dataframe\">\n",
       "  <thead>\n",
       "    <tr style=\"text-align: right;\">\n",
       "      <th></th>\n",
       "      <th>Unnamed: 0</th>\n",
       "      <th>year</th>\n",
       "      <th>bpm</th>\n",
       "      <th>nrgy</th>\n",
       "      <th>dnce</th>\n",
       "      <th>dB</th>\n",
       "      <th>live</th>\n",
       "      <th>val</th>\n",
       "      <th>dur</th>\n",
       "      <th>acous</th>\n",
       "      <th>spch</th>\n",
       "      <th>pop</th>\n",
       "    </tr>\n",
       "  </thead>\n",
       "  <tbody>\n",
       "    <tr>\n",
       "      <th>Unnamed: 0</th>\n",
       "      <td>1.000000</td>\n",
       "      <td>0.989031</td>\n",
       "      <td>-0.114849</td>\n",
       "      <td>-0.214586</td>\n",
       "      <td>0.074920</td>\n",
       "      <td>-0.133914</td>\n",
       "      <td>-0.129865</td>\n",
       "      <td>-0.129002</td>\n",
       "      <td>-0.210783</td>\n",
       "      <td>0.096518</td>\n",
       "      <td>0.013672</td>\n",
       "      <td>0.150420</td>\n",
       "    </tr>\n",
       "    <tr>\n",
       "      <th>year</th>\n",
       "      <td>0.989031</td>\n",
       "      <td>1.000000</td>\n",
       "      <td>-0.104247</td>\n",
       "      <td>-0.225596</td>\n",
       "      <td>0.079269</td>\n",
       "      <td>-0.126471</td>\n",
       "      <td>-0.136331</td>\n",
       "      <td>-0.122025</td>\n",
       "      <td>-0.215344</td>\n",
       "      <td>0.101725</td>\n",
       "      <td>0.004778</td>\n",
       "      <td>0.241261</td>\n",
       "    </tr>\n",
       "    <tr>\n",
       "      <th>bpm</th>\n",
       "      <td>-0.114849</td>\n",
       "      <td>-0.104247</td>\n",
       "      <td>1.000000</td>\n",
       "      <td>0.126170</td>\n",
       "      <td>-0.131301</td>\n",
       "      <td>0.183870</td>\n",
       "      <td>0.081579</td>\n",
       "      <td>0.016021</td>\n",
       "      <td>-0.029359</td>\n",
       "      <td>-0.113257</td>\n",
       "      <td>0.058999</td>\n",
       "      <td>0.018983</td>\n",
       "    </tr>\n",
       "    <tr>\n",
       "      <th>nrgy</th>\n",
       "      <td>-0.214586</td>\n",
       "      <td>-0.225596</td>\n",
       "      <td>0.126170</td>\n",
       "      <td>1.000000</td>\n",
       "      <td>0.167209</td>\n",
       "      <td>0.537528</td>\n",
       "      <td>0.186738</td>\n",
       "      <td>0.409577</td>\n",
       "      <td>-0.143610</td>\n",
       "      <td>-0.562287</td>\n",
       "      <td>0.107313</td>\n",
       "      <td>-0.057645</td>\n",
       "    </tr>\n",
       "    <tr>\n",
       "      <th>dnce</th>\n",
       "      <td>0.074920</td>\n",
       "      <td>0.079269</td>\n",
       "      <td>-0.131301</td>\n",
       "      <td>0.167209</td>\n",
       "      <td>1.000000</td>\n",
       "      <td>0.233170</td>\n",
       "      <td>-0.028801</td>\n",
       "      <td>0.501696</td>\n",
       "      <td>-0.176841</td>\n",
       "      <td>-0.240064</td>\n",
       "      <td>-0.028041</td>\n",
       "      <td>0.116054</td>\n",
       "    </tr>\n",
       "    <tr>\n",
       "      <th>dB</th>\n",
       "      <td>-0.133914</td>\n",
       "      <td>-0.126471</td>\n",
       "      <td>0.183870</td>\n",
       "      <td>0.537528</td>\n",
       "      <td>0.233170</td>\n",
       "      <td>1.000000</td>\n",
       "      <td>0.081934</td>\n",
       "      <td>0.282922</td>\n",
       "      <td>-0.104723</td>\n",
       "      <td>-0.190401</td>\n",
       "      <td>-0.001110</td>\n",
       "      <td>0.156897</td>\n",
       "    </tr>\n",
       "    <tr>\n",
       "      <th>live</th>\n",
       "      <td>-0.129865</td>\n",
       "      <td>-0.136331</td>\n",
       "      <td>0.081579</td>\n",
       "      <td>0.186738</td>\n",
       "      <td>-0.028801</td>\n",
       "      <td>0.081934</td>\n",
       "      <td>1.000000</td>\n",
       "      <td>0.020226</td>\n",
       "      <td>0.098339</td>\n",
       "      <td>-0.098167</td>\n",
       "      <td>0.144103</td>\n",
       "      <td>-0.075749</td>\n",
       "    </tr>\n",
       "    <tr>\n",
       "      <th>val</th>\n",
       "      <td>-0.129002</td>\n",
       "      <td>-0.122025</td>\n",
       "      <td>0.016021</td>\n",
       "      <td>0.409577</td>\n",
       "      <td>0.501696</td>\n",
       "      <td>0.282922</td>\n",
       "      <td>0.020226</td>\n",
       "      <td>1.000000</td>\n",
       "      <td>-0.262256</td>\n",
       "      <td>-0.249038</td>\n",
       "      <td>0.122013</td>\n",
       "      <td>0.038953</td>\n",
       "    </tr>\n",
       "    <tr>\n",
       "      <th>dur</th>\n",
       "      <td>-0.210783</td>\n",
       "      <td>-0.215344</td>\n",
       "      <td>-0.029359</td>\n",
       "      <td>-0.143610</td>\n",
       "      <td>-0.176841</td>\n",
       "      <td>-0.104723</td>\n",
       "      <td>0.098339</td>\n",
       "      <td>-0.262256</td>\n",
       "      <td>1.000000</td>\n",
       "      <td>0.091802</td>\n",
       "      <td>0.054564</td>\n",
       "      <td>-0.104363</td>\n",
       "    </tr>\n",
       "    <tr>\n",
       "      <th>acous</th>\n",
       "      <td>0.096518</td>\n",
       "      <td>0.101725</td>\n",
       "      <td>-0.113257</td>\n",
       "      <td>-0.562287</td>\n",
       "      <td>-0.240064</td>\n",
       "      <td>-0.190401</td>\n",
       "      <td>-0.098167</td>\n",
       "      <td>-0.249038</td>\n",
       "      <td>0.091802</td>\n",
       "      <td>1.000000</td>\n",
       "      <td>0.002763</td>\n",
       "      <td>0.026704</td>\n",
       "    </tr>\n",
       "    <tr>\n",
       "      <th>spch</th>\n",
       "      <td>0.013672</td>\n",
       "      <td>0.004778</td>\n",
       "      <td>0.058999</td>\n",
       "      <td>0.107313</td>\n",
       "      <td>-0.028041</td>\n",
       "      <td>-0.001110</td>\n",
       "      <td>0.144103</td>\n",
       "      <td>0.122013</td>\n",
       "      <td>0.054564</td>\n",
       "      <td>0.002763</td>\n",
       "      <td>1.000000</td>\n",
       "      <td>-0.041490</td>\n",
       "    </tr>\n",
       "    <tr>\n",
       "      <th>pop</th>\n",
       "      <td>0.150420</td>\n",
       "      <td>0.241261</td>\n",
       "      <td>0.018983</td>\n",
       "      <td>-0.057645</td>\n",
       "      <td>0.116054</td>\n",
       "      <td>0.156897</td>\n",
       "      <td>-0.075749</td>\n",
       "      <td>0.038953</td>\n",
       "      <td>-0.104363</td>\n",
       "      <td>0.026704</td>\n",
       "      <td>-0.041490</td>\n",
       "      <td>1.000000</td>\n",
       "    </tr>\n",
       "  </tbody>\n",
       "</table>\n",
       "</div>"
      ],
      "text/plain": [
       "            Unnamed: 0      year       bpm      nrgy      dnce        dB  \\\n",
       "Unnamed: 0    1.000000  0.989031 -0.114849 -0.214586  0.074920 -0.133914   \n",
       "year          0.989031  1.000000 -0.104247 -0.225596  0.079269 -0.126471   \n",
       "bpm          -0.114849 -0.104247  1.000000  0.126170 -0.131301  0.183870   \n",
       "nrgy         -0.214586 -0.225596  0.126170  1.000000  0.167209  0.537528   \n",
       "dnce          0.074920  0.079269 -0.131301  0.167209  1.000000  0.233170   \n",
       "dB           -0.133914 -0.126471  0.183870  0.537528  0.233170  1.000000   \n",
       "live         -0.129865 -0.136331  0.081579  0.186738 -0.028801  0.081934   \n",
       "val          -0.129002 -0.122025  0.016021  0.409577  0.501696  0.282922   \n",
       "dur          -0.210783 -0.215344 -0.029359 -0.143610 -0.176841 -0.104723   \n",
       "acous         0.096518  0.101725 -0.113257 -0.562287 -0.240064 -0.190401   \n",
       "spch          0.013672  0.004778  0.058999  0.107313 -0.028041 -0.001110   \n",
       "pop           0.150420  0.241261  0.018983 -0.057645  0.116054  0.156897   \n",
       "\n",
       "                live       val       dur     acous      spch       pop  \n",
       "Unnamed: 0 -0.129865 -0.129002 -0.210783  0.096518  0.013672  0.150420  \n",
       "year       -0.136331 -0.122025 -0.215344  0.101725  0.004778  0.241261  \n",
       "bpm         0.081579  0.016021 -0.029359 -0.113257  0.058999  0.018983  \n",
       "nrgy        0.186738  0.409577 -0.143610 -0.562287  0.107313 -0.057645  \n",
       "dnce       -0.028801  0.501696 -0.176841 -0.240064 -0.028041  0.116054  \n",
       "dB          0.081934  0.282922 -0.104723 -0.190401 -0.001110  0.156897  \n",
       "live        1.000000  0.020226  0.098339 -0.098167  0.144103 -0.075749  \n",
       "val         0.020226  1.000000 -0.262256 -0.249038  0.122013  0.038953  \n",
       "dur         0.098339 -0.262256  1.000000  0.091802  0.054564 -0.104363  \n",
       "acous      -0.098167 -0.249038  0.091802  1.000000  0.002763  0.026704  \n",
       "spch        0.144103  0.122013  0.054564  0.002763  1.000000 -0.041490  \n",
       "pop        -0.075749  0.038953 -0.104363  0.026704 -0.041490  1.000000  "
      ]
     },
     "execution_count": 19,
     "metadata": {},
     "output_type": "execute_result"
    }
   ],
   "source": [
    "df.corr() # correlation matrix "
   ]
  },
  {
   "cell_type": "markdown",
   "metadata": {},
   "source": [
    "## 3. Results "
   ]
  },
  {
   "cell_type": "markdown",
   "metadata": {},
   "source": [
    "### 3.1 Descriptive Analytics "
   ]
  },
  {
   "cell_type": "markdown",
   "metadata": {},
   "source": [
    "* Describing the different variables and make some visualizations \n",
    "* Showing some correlations between the variables \n",
    "* Ideas: Popularity over the year \n",
    "* Scatterplots between IV and DV\n",
    "* Showing some interactive stuff "
   ]
  },
  {
   "cell_type": "code",
   "execution_count": 44,
   "metadata": {},
   "outputs": [
    {
     "ename": "NameError",
     "evalue": "name 'sns' is not defined",
     "output_type": "error",
     "traceback": [
      "\u001b[0;31m---------------------------------------------------------------------------\u001b[0m",
      "\u001b[0;31mNameError\u001b[0m                                 Traceback (most recent call last)",
      "\u001b[0;32m<ipython-input-44-bc418a78fa2d>\u001b[0m in \u001b[0;36m<module>\u001b[0;34m\u001b[0m\n\u001b[1;32m      1\u001b[0m \u001b[0mcorr\u001b[0m \u001b[0;34m=\u001b[0m \u001b[0mdf\u001b[0m\u001b[0;34m.\u001b[0m\u001b[0mcorr\u001b[0m\u001b[0;34m(\u001b[0m\u001b[0;34m)\u001b[0m\u001b[0;34m\u001b[0m\u001b[0;34m\u001b[0m\u001b[0m\n\u001b[0;32m----> 2\u001b[0;31m ax = sns.heatmap(\n\u001b[0m\u001b[1;32m      3\u001b[0m     \u001b[0mcorr\u001b[0m\u001b[0;34m,\u001b[0m\u001b[0;34m\u001b[0m\u001b[0;34m\u001b[0m\u001b[0m\n\u001b[1;32m      4\u001b[0m     \u001b[0mvmin\u001b[0m\u001b[0;34m=\u001b[0m\u001b[0;34m-\u001b[0m\u001b[0;36m1\u001b[0m\u001b[0;34m,\u001b[0m \u001b[0mvmax\u001b[0m\u001b[0;34m=\u001b[0m\u001b[0;36m1\u001b[0m\u001b[0;34m,\u001b[0m \u001b[0mcenter\u001b[0m\u001b[0;34m=\u001b[0m\u001b[0;36m0\u001b[0m\u001b[0;34m,\u001b[0m\u001b[0;34m\u001b[0m\u001b[0;34m\u001b[0m\u001b[0m\n\u001b[1;32m      5\u001b[0m     \u001b[0mcmap\u001b[0m\u001b[0;34m=\u001b[0m\u001b[0msns\u001b[0m\u001b[0;34m.\u001b[0m\u001b[0mdiverging_palette\u001b[0m\u001b[0;34m(\u001b[0m\u001b[0;36m20\u001b[0m\u001b[0;34m,\u001b[0m \u001b[0;36m220\u001b[0m\u001b[0;34m,\u001b[0m \u001b[0mn\u001b[0m\u001b[0;34m=\u001b[0m\u001b[0;36m200\u001b[0m\u001b[0;34m)\u001b[0m\u001b[0;34m,\u001b[0m\u001b[0;34m\u001b[0m\u001b[0;34m\u001b[0m\u001b[0m\n",
      "\u001b[0;31mNameError\u001b[0m: name 'sns' is not defined"
     ]
    }
   ],
   "source": [
    "corr = df.corr()\n",
    "ax = sns.heatmap(\n",
    "    corr, \n",
    "    vmin=-1, vmax=1, center=0,\n",
    "    cmap=sns.diverging_palette(20, 220, n=200),\n",
    "    square=True\n",
    ")\n",
    "ax.set_xticklabels(\n",
    "    ax.get_xticklabels(),\n",
    "    rotation=45,\n",
    "    horizontalalignment='right'\n",
    ")"
   ]
  },
  {
   "cell_type": "markdown",
   "metadata": {},
   "source": [
    "## 3.2 Interactive Part \n",
    "In this part the user can search for different things within the dataset. "
   ]
  },
  {
   "cell_type": "markdown",
   "metadata": {},
   "source": [
    "### 3.2 Regression Analysis "
   ]
  },
  {
   "cell_type": "markdown",
   "metadata": {},
   "source": [
    "### 3.3 Machine Learning "
   ]
  },
  {
   "cell_type": "markdown",
   "metadata": {},
   "source": [
    "## 4. Concluding Remarks "
   ]
  },
  {
   "cell_type": "markdown",
   "metadata": {},
   "source": [
    "# 5. Appendix\n"
   ]
  }
 ],
 "metadata": {
  "kernelspec": {
   "display_name": "Python 3",
   "language": "python",
   "name": "python3"
  },
  "language_info": {
   "codemirror_mode": {
    "name": "ipython",
    "version": 3
   },
   "file_extension": ".py",
   "mimetype": "text/x-python",
   "name": "python",
   "nbconvert_exporter": "python",
   "pygments_lexer": "ipython3",
   "version": "3.7.6"
  }
 },
 "nbformat": 4,
 "nbformat_minor": 4
}
